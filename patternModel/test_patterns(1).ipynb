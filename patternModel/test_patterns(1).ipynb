{
  "cells": [
    {
      "cell_type": "code",
      "execution_count": 23,
      "metadata": {
        "id": "6aeU1Nh9f-Mn"
      },
      "outputs": [],
      "source": [
        "import tensorflow as tf\n",
        "import keras\n",
        "from tensorflow.keras.utils import to_categorical\n",
        "from keras.layers import Conv2D,Dense,MaxPooling2D,Input,Flatten,Dropout\n",
        "from keras.models import Sequential\n",
        "from sklearn.model_selection import train_test_split\n",
        "import numpy as np\n",
        "import cv2\n",
        "import os"
      ]
    },
    {
      "cell_type": "code",
      "execution_count": 8,
      "metadata": {
        "id": "hCRzKNz0f-Mo"
      },
      "outputs": [],
      "source": [
        "classes=['striped_resize','dotted_resize','checkered_resize','solid']\n",
        "root='./dataset/'\n",
        "def creation_dataset():\n",
        "    X=[]\n",
        "    Y=[]\n",
        "    dic={'striped_resize':0,'dotted_resize':1,'checkered_resize':2,'solid':3}\n",
        "    for c in classes:\n",
        "        for file in os.listdir(root+c):\n",
        "            #if file.endswith(\".jpg\"):\n",
        "            im= cv2.resize(cv2.imread(root+c+'/'+file,cv2.IMREAD_GRAYSCALE)/255,(150,150))               \n",
        "            im=np.expand_dims(im,-1)\n",
        "            X.append(im)\n",
        "            Y.append(dic[c])\n",
        "    return X,Y\n",
        "    "
      ]
    },
    {
      "cell_type": "code",
      "execution_count": 9,
      "metadata": {
        "colab": {
          "base_uri": "https://localhost:8080/",
          "height": 171
        },
        "id": "jQhWVE_FBn30",
        "outputId": "21aefc93-99b7-4405-e363-605a33ed7e96"
      },
      "outputs": [
        {
          "data": {
            "text/plain": [
              "2858"
            ]
          },
          "execution_count": 9,
          "metadata": {},
          "output_type": "execute_result"
        }
      ],
      "source": [
        "len(os.listdir(root+'checkered_resize'))"
      ]
    },
    {
      "cell_type": "code",
      "execution_count": 10,
      "metadata": {
        "id": "uYXJP-ANf-Mr"
      },
      "outputs": [],
      "source": [
        "X,Y=creation_dataset()"
      ]
    },
    {
      "cell_type": "code",
      "execution_count": null,
      "metadata": {
        "colab": {
          "base_uri": "https://localhost:8080/"
        },
        "id": "bYij4oPV8sSh",
        "outputId": "2ab34c1f-4b8b-4c37-be84-4b489f55dbc5"
      },
      "outputs": [
        {
          "name": "stdout",
          "output_type": "stream",
          "text": [
            "Drive already mounted at /content/drive; to attempt to forcibly remount, call drive.mount(\"/content/drive\", force_remount=True).\n"
          ]
        }
      ],
      "source": [
        "from google.colab import drive\n",
        "drive.mount('/content/drive')"
      ]
    },
    {
      "cell_type": "code",
      "execution_count": 11,
      "metadata": {
        "colab": {
          "base_uri": "https://localhost:8080/"
        },
        "id": "Rdfx2zpuf-Ms",
        "outputId": "3821d448-fe09-43cf-9306-482aeaf8302a"
      },
      "outputs": [
        {
          "name": "stdout",
          "output_type": "stream",
          "text": [
            "9565 9565\n"
          ]
        }
      ],
      "source": [
        "print(len(X),len(Y))"
      ]
    },
    {
      "cell_type": "code",
      "execution_count": 12,
      "metadata": {
        "id": "qERdXMeXf-Mt"
      },
      "outputs": [
        {
          "name": "stdout",
          "output_type": "stream",
          "text": [
            "(150, 150, 1)\n",
            "(150, 150, 1)\n",
            "(150, 150, 1)\n",
            "(150, 150, 1)\n",
            "(150, 150, 1)\n",
            "(150, 150, 1)\n",
            "(150, 150, 1)\n",
            "(150, 150, 1)\n",
            "(150, 150, 1)\n",
            "(150, 150, 1)\n",
            "(150, 150, 1)\n",
            "(150, 150, 1)\n",
            "(150, 150, 1)\n",
            "(150, 150, 1)\n",
            "(150, 150, 1)\n",
            "(150, 150, 1)\n",
            "(150, 150, 1)\n",
            "(150, 150, 1)\n",
            "(150, 150, 1)\n",
            "(150, 150, 1)\n"
          ]
        }
      ],
      "source": [
        "for i in range(20):    \n",
        "    print(X[i].shape)"
      ]
    },
    {
      "cell_type": "code",
      "execution_count": 13,
      "metadata": {
        "id": "UUatYVezf-Mu"
      },
      "outputs": [],
      "source": [
        "X_train,X_test,Y_train,Y_test=train_test_split(X,Y,random_state=42,shuffle=True,train_size=0.8)"
      ]
    },
    {
      "cell_type": "code",
      "execution_count": 14,
      "metadata": {
        "id": "5cAG-IPPf-Mv"
      },
      "outputs": [],
      "source": [
        "Y_train = np.array(to_categorical(Y_train, num_classes=4))\n",
        "Y_test = np.array(to_categorical(Y_test, num_classes=4))"
      ]
    },
    {
      "cell_type": "code",
      "execution_count": 15,
      "metadata": {
        "colab": {
          "background_save": true
        },
        "id": "Na4KkzSTf-Mv",
        "outputId": "0f986200-baa2-47da-87b0-c8c590c5c27d"
      },
      "outputs": [
        {
          "name": "stdout",
          "output_type": "stream",
          "text": [
            "Model: \"sequential\"\n",
            "_________________________________________________________________\n",
            " Layer (type)                Output Shape              Param #   \n",
            "=================================================================\n",
            " conv2d (Conv2D)             (None, 146, 146, 16)      416       \n",
            "                                                                 \n",
            " max_pooling2d (MaxPooling2D  (None, 29, 29, 16)       0         \n",
            " )                                                               \n",
            "                                                                 \n",
            " conv2d_1 (Conv2D)           (None, 25, 25, 8)         3208      \n",
            "                                                                 \n",
            " max_pooling2d_1 (MaxPooling  (None, 5, 5, 8)          0         \n",
            " 2D)                                                             \n",
            "                                                                 \n",
            " flatten (Flatten)           (None, 200)               0         \n",
            "                                                                 \n",
            " dense (Dense)               (None, 10)                2010      \n",
            "                                                                 \n",
            " dense_1 (Dense)             (None, 4)                 44        \n",
            "                                                                 \n",
            "=================================================================\n",
            "Total params: 5,678\n",
            "Trainable params: 5,678\n",
            "Non-trainable params: 0\n",
            "_________________________________________________________________\n"
          ]
        },
        {
          "name": "stderr",
          "output_type": "stream",
          "text": [
            "2022-03-03 10:58:36.250060: I tensorflow/core/platform/cpu_feature_guard.cc:151] This TensorFlow binary is optimized with oneAPI Deep Neural Network Library (oneDNN) to use the following CPU instructions in performance-critical operations:  AVX2 FMA\n",
            "To enable them in other operations, rebuild TensorFlow with the appropriate compiler flags.\n"
          ]
        }
      ],
      "source": [
        "shape=X[0].shape\n",
        "\n",
        "model=Sequential()\n",
        "model.add(Input(shape=shape))\n",
        "model.add(Conv2D(16, kernel_size=(5,5), activation=\"relu\"))\n",
        "model.add(MaxPooling2D((5,5)))\n",
        "model.add(Conv2D(8, kernel_size=(5, 5), activation=\"relu\"))\n",
        "model.add(MaxPooling2D((5,5)))\n",
        "model.add(Flatten())\n",
        "model.add(Dense(10,activation='relu'))\n",
        "model.add(Dense(4, activation=\"softmax\"))\n",
        "\n",
        "\n",
        "model.summary()\n",
        " \n",
        "batch_size = 8\n",
        "epochs = 20\n",
        " \n"
      ]
    },
    {
      "cell_type": "code",
      "execution_count": 16,
      "metadata": {
        "colab": {
          "base_uri": "https://localhost:8080/"
        },
        "id": "8AowHi-Yf-Mx",
        "outputId": "7ffee418-7667-4bc1-af3c-973fba9ff901"
      },
      "outputs": [
        {
          "name": "stdout",
          "output_type": "stream",
          "text": [
            "Model: \"sequential_1\"\n",
            "_________________________________________________________________\n",
            " Layer (type)                Output Shape              Param #   \n",
            "=================================================================\n",
            " conv2d_2 (Conv2D)           (None, 146, 146, 8)       208       \n",
            "                                                                 \n",
            " max_pooling2d_2 (MaxPooling  (None, 48, 48, 8)        0         \n",
            " 2D)                                                             \n",
            "                                                                 \n",
            " conv2d_3 (Conv2D)           (None, 44, 44, 16)        3216      \n",
            "                                                                 \n",
            " max_pooling2d_3 (MaxPooling  (None, 14, 14, 16)       0         \n",
            " 2D)                                                             \n",
            "                                                                 \n",
            " conv2d_4 (Conv2D)           (None, 10, 10, 32)        12832     \n",
            "                                                                 \n",
            " max_pooling2d_4 (MaxPooling  (None, 3, 3, 32)         0         \n",
            " 2D)                                                             \n",
            "                                                                 \n",
            " flatten_1 (Flatten)         (None, 288)               0         \n",
            "                                                                 \n",
            " dense_2 (Dense)             (None, 4)                 1156      \n",
            "                                                                 \n",
            "=================================================================\n",
            "Total params: 17,412\n",
            "Trainable params: 17,412\n",
            "Non-trainable params: 0\n",
            "_________________________________________________________________\n"
          ]
        }
      ],
      "source": [
        "model2=Sequential()\n",
        "model2.add(Input(shape=shape))\n",
        "model2.add(Conv2D(8, kernel_size=(5,5), activation=\"relu\"))\n",
        "model2.add(MaxPooling2D((3,3)))\n",
        "model2.add(Conv2D(16, kernel_size=(5,5), activation=\"relu\"))\n",
        "model2.add(MaxPooling2D((3,3)))\n",
        "model2.add(Conv2D(32, kernel_size=(5,5), activation=\"relu\"))\n",
        "model2.add(MaxPooling2D((3,3)))\n",
        "model2.add(Flatten())\n",
        "#model2.add(Dense(10,activation='relu'))\n",
        "model2.add(Dense(4, activation=\"softmax\"))\n",
        "\n",
        "\n",
        "model2.summary()\n",
        " \n",
        "batch_size = 5"
      ]
    },
    {
      "cell_type": "code",
      "execution_count": 17,
      "metadata": {
        "colab": {
          "base_uri": "https://localhost:8080/"
        },
        "id": "RDlOZ5wZ2aJM",
        "outputId": "d4faf4d5-890b-41b9-d58e-26eeca32b68d"
      },
      "outputs": [
        {
          "name": "stdout",
          "output_type": "stream",
          "text": [
            "Model: \"sequential_2\"\n",
            "_________________________________________________________________\n",
            " Layer (type)                Output Shape              Param #   \n",
            "=================================================================\n",
            " conv2d_5 (Conv2D)           (None, 146, 146, 8)       208       \n",
            "                                                                 \n",
            " max_pooling2d_5 (MaxPooling  (None, 48, 48, 8)        0         \n",
            " 2D)                                                             \n",
            "                                                                 \n",
            " flatten_2 (Flatten)         (None, 18432)             0         \n",
            "                                                                 \n",
            " dense_3 (Dense)             (None, 4)                 73732     \n",
            "                                                                 \n",
            "=================================================================\n",
            "Total params: 73,940\n",
            "Trainable params: 73,940\n",
            "Non-trainable params: 0\n",
            "_________________________________________________________________\n"
          ]
        }
      ],
      "source": [
        "shape=X[0].shape\n",
        "\n",
        "\n",
        "model3=Sequential()\n",
        "model3.add(Input(shape=shape))\n",
        "model3.add(Conv2D(8, kernel_size=(5,5), activation=\"relu\"))\n",
        "model3.add(MaxPooling2D((3,3)))\n",
        "model3.add(Flatten())\n",
        "model3.add(Dense(4,activation=\"softmax\"))\n",
        "\n",
        "model3.summary()\n"
      ]
    },
    {
      "cell_type": "code",
      "execution_count": 18,
      "metadata": {
        "colab": {
          "background_save": true,
          "base_uri": "https://localhost:8080/"
        },
        "id": "NmRHtFhlf-My",
        "outputId": "f469f29f-c90d-4de8-8b26-154c460535ed"
      },
      "outputs": [
        {
          "name": "stdout",
          "output_type": "stream",
          "text": [
            "Epoch 1/20\n",
            "1531/1531 [==============================] - 73s 47ms/step - loss: 1.1579 - accuracy: 0.4369 - val_loss: 0.9124 - val_accuracy: 0.6231\n",
            "Epoch 2/20\n",
            "1531/1531 [==============================] - 68s 44ms/step - loss: 0.8251 - accuracy: 0.6738 - val_loss: 0.8635 - val_accuracy: 0.6472\n",
            "Epoch 3/20\n",
            "1531/1531 [==============================] - 69s 45ms/step - loss: 0.7089 - accuracy: 0.7316 - val_loss: 0.8005 - val_accuracy: 0.6952\n",
            "Epoch 4/20\n",
            "1531/1531 [==============================] - 69s 45ms/step - loss: 0.6502 - accuracy: 0.7585 - val_loss: 0.6809 - val_accuracy: 0.7533\n",
            "Epoch 5/20\n",
            "1531/1531 [==============================] - 68s 44ms/step - loss: 0.5952 - accuracy: 0.7777 - val_loss: 0.6058 - val_accuracy: 0.7820\n",
            "Epoch 6/20\n",
            "1531/1531 [==============================] - 65s 42ms/step - loss: 0.5464 - accuracy: 0.8003 - val_loss: 0.6413 - val_accuracy: 0.7653\n",
            "Epoch 7/20\n",
            "1531/1531 [==============================] - 64s 42ms/step - loss: 0.5268 - accuracy: 0.8046 - val_loss: 0.6267 - val_accuracy: 0.7757\n",
            "Epoch 8/20\n",
            "1531/1531 [==============================] - 69s 45ms/step - loss: 0.4853 - accuracy: 0.8232 - val_loss: 0.6014 - val_accuracy: 0.7794\n",
            "Epoch 9/20\n",
            "1531/1531 [==============================] - 80s 52ms/step - loss: 0.4630 - accuracy: 0.8313 - val_loss: 0.6327 - val_accuracy: 0.7909\n",
            "Epoch 10/20\n",
            "1531/1531 [==============================] - 76s 49ms/step - loss: 0.4225 - accuracy: 0.8506 - val_loss: 0.5763 - val_accuracy: 0.7961\n",
            "Epoch 11/20\n",
            "1531/1531 [==============================] - 75s 49ms/step - loss: 0.3913 - accuracy: 0.8557 - val_loss: 0.5806 - val_accuracy: 0.7998\n",
            "Epoch 12/20\n",
            "1531/1531 [==============================] - 81s 53ms/step - loss: 0.3648 - accuracy: 0.8683 - val_loss: 0.6474 - val_accuracy: 0.7784\n",
            "Epoch 13/20\n",
            "1531/1531 [==============================] - 75s 49ms/step - loss: 0.3494 - accuracy: 0.8742 - val_loss: 0.6079 - val_accuracy: 0.7987\n",
            "Epoch 14/20\n",
            "1531/1531 [==============================] - 81s 53ms/step - loss: 0.3273 - accuracy: 0.8823 - val_loss: 0.6172 - val_accuracy: 0.7987\n",
            "Epoch 15/20\n",
            "1531/1531 [==============================] - 87s 57ms/step - loss: 0.3011 - accuracy: 0.8922 - val_loss: 0.7745 - val_accuracy: 0.7642\n",
            "Epoch 16/20\n",
            "1531/1531 [==============================] - 98s 64ms/step - loss: 0.2757 - accuracy: 0.9026 - val_loss: 0.7422 - val_accuracy: 0.7799\n",
            "Epoch 17/20\n",
            "1531/1531 [==============================] - 126s 82ms/step - loss: 0.2638 - accuracy: 0.9072 - val_loss: 0.6435 - val_accuracy: 0.8076\n",
            "Epoch 18/20\n",
            "1531/1531 [==============================] - 142s 92ms/step - loss: 0.2496 - accuracy: 0.9137 - val_loss: 0.7002 - val_accuracy: 0.8040\n",
            "Epoch 19/20\n",
            "1531/1531 [==============================] - 169s 110ms/step - loss: 0.2273 - accuracy: 0.9208 - val_loss: 0.8293 - val_accuracy: 0.7872\n",
            "Epoch 20/20\n",
            "1531/1531 [==============================] - 173s 113ms/step - loss: 0.2185 - accuracy: 0.9212 - val_loss: 0.7003 - val_accuracy: 0.8170\n"
          ]
        }
      ],
      "source": [
        "epochs=20\n",
        "batch_size=5\n",
        "model2.compile(loss=\"categorical_crossentropy\",\n",
        "              optimizer=\"adam\", metrics=[\"accuracy\"])\n",
        "  \n",
        "history = model2.fit(\n",
        "    np.array(X_train),\n",
        "    Y_train,\n",
        "    batch_size=batch_size,\n",
        "    epochs=epochs,\n",
        "    validation_data=(np.array(X_test), Y_test),\n",
        "    verbose=True\n",
        ")"
      ]
    },
    {
      "cell_type": "code",
      "execution_count": 25,
      "metadata": {
        "id": "zoA_K8PnLOyh"
      },
      "outputs": [
        {
          "name": "stderr",
          "output_type": "stream",
          "text": [
            "2022-03-03 11:44:52.448329: I tensorflow/core/grappler/devices.cc:75] Number of eligible GPUs (core count >= 8, compute capability >= 0.0): 0 (Note: TensorFlow was not compiled with CUDA or ROCm support)\n",
            "2022-03-03 11:44:52.452118: I tensorflow/core/grappler/optimizers/meta_optimizer.cc:1164] Optimization results for grappler item: graph_to_optimize\n",
            "  function_optimizer: function_optimizer did nothing. time = 0.005ms.\n",
            "  function_optimizer: function_optimizer did nothing. time = 0.001ms.\n",
            "\n",
            "2022-03-03 11:44:52.503717: I tensorflow/core/grappler/devices.cc:75] Number of eligible GPUs (core count >= 8, compute capability >= 0.0): 0 (Note: TensorFlow was not compiled with CUDA or ROCm support)\n",
            "2022-03-03 11:44:52.510378: I tensorflow/core/grappler/optimizers/meta_optimizer.cc:1164] Optimization results for grappler item: graph_to_optimize\n",
            "  constant_folding: Graph size after: 27 nodes (-8), 34 edges (-8), time = 1.893ms.\n",
            "  dependency_optimizer: Graph size after: 18 nodes (-9), 17 edges (-17), time = 0.187ms.\n",
            "  debug_stripper: debug_stripper did nothing. time = 0.002ms.\n",
            "  constant_folding: Graph size after: 18 nodes (0), 17 edges (0), time = 0.327ms.\n",
            "  dependency_optimizer: Graph size after: 18 nodes (0), 17 edges (0), time = 0.104ms.\n",
            "  debug_stripper: debug_stripper did nothing. time = 0.001ms.\n",
            "\n",
            "2022-03-03 11:44:52.573552: I tensorflow/core/grappler/devices.cc:75] Number of eligible GPUs (core count >= 8, compute capability >= 0.0): 0 (Note: TensorFlow was not compiled with CUDA or ROCm support)\n",
            "2022-03-03 11:44:52.578719: I tensorflow/core/grappler/optimizers/meta_optimizer.cc:1164] Optimization results for grappler item: graph_to_optimize\n",
            "  function_optimizer: function_optimizer did nothing. time = 0.004ms.\n",
            "  function_optimizer: function_optimizer did nothing. time = 0.001ms.\n",
            "\n",
            "2022-03-03 11:44:52.616567: I tensorflow/core/grappler/devices.cc:75] Number of eligible GPUs (core count >= 8, compute capability >= 0.0): 0 (Note: TensorFlow was not compiled with CUDA or ROCm support)\n",
            "2022-03-03 11:44:52.619830: I tensorflow/core/grappler/optimizers/meta_optimizer.cc:1164] Optimization results for grappler item: graph_to_optimize\n",
            "  constant_folding: Graph size after: 27 nodes (-8), 34 edges (-8), time = 0.896ms.\n",
            "  dependency_optimizer: Graph size after: 18 nodes (-9), 17 edges (-17), time = 0.179ms.\n",
            "  debug_stripper: debug_stripper did nothing. time = 0.003ms.\n",
            "  constant_folding: Graph size after: 18 nodes (0), 17 edges (0), time = 0.428ms.\n",
            "  dependency_optimizer: Graph size after: 18 nodes (0), 17 edges (0), time = 0.106ms.\n",
            "  debug_stripper: debug_stripper did nothing. time = 0.002ms.\n",
            "\n",
            "Running TensorFlow Graph Passes: 100%|██████████| 6/6 [00:00<00:00, 23.93 passes/s]\n",
            "Converting Frontend ==> MIL Ops: 100%|██████████| 18/18 [00:00<00:00, 469.89 ops/s]\n",
            "Running MIL Common passes: 100%|██████████| 34/34 [00:00<00:00, 580.75 passes/s]\n",
            "Running MIL Clean up passes: 100%|██████████| 9/9 [00:00<00:00, 346.85 passes/s]\n",
            "Translating MIL ==> NeuralNetwork Ops: 100%|██████████| 43/43 [00:00<00:00, 22583.91 ops/s]\n"
          ]
        }
      ],
      "source": [
        "import coremltools as ct\n",
        "class_labels = [0,1,2,3]\n",
        "classifier_config = ct.ClassifierConfig(class_labels)\n",
        "_input =ct.ImageType(name=\"input_1\",scale = 1./255)\n",
        "\n",
        "mlmodel = ct.convert(model, inputs=[_input], classifier_config=classifier_config)\n",
        "mlmodel.save(\"tesstmodeltensor.mlmodel\")"
      ]
    },
    {
      "cell_type": "code",
      "execution_count": 26,
      "metadata": {},
      "outputs": [
        {
          "ename": "TypeError",
          "evalue": "'method' object is not subscriptable",
          "output_type": "error",
          "traceback": [
            "\u001b[0;31m---------------------------------------------------------------------------\u001b[0m",
            "\u001b[0;31mTypeError\u001b[0m                                 Traceback (most recent call last)",
            "\u001b[1;32m/Users/alexandrebarbier/Documents/oorion/PyTorch-model/test_patterns(1).ipynb Cell 15'\u001b[0m in \u001b[0;36m<cell line: 2>\u001b[0;34m()\u001b[0m\n\u001b[1;32m      <a href='vscode-notebook-cell:/Users/alexandrebarbier/Documents/oorion/PyTorch-model/test_patterns%281%29.ipynb#ch0000020?line=0'>1</a>\u001b[0m img \u001b[39m=\u001b[39m cv2\u001b[39m.\u001b[39mimread(\u001b[39m'\u001b[39m\u001b[39m./dataset/dotted_resize/dotted6.jpg\u001b[39m\u001b[39m'\u001b[39m,cv2\u001b[39m.\u001b[39mIMREAD_GRAYSCALE)\n\u001b[0;32m----> <a href='vscode-notebook-cell:/Users/alexandrebarbier/Documents/oorion/PyTorch-model/test_patterns%281%29.ipynb#ch0000020?line=1'>2</a>\u001b[0m \u001b[39mprint\u001b[39m(model2\u001b[39m.\u001b[39;49mpredict[img])\n",
            "\u001b[0;31mTypeError\u001b[0m: 'method' object is not subscriptable"
          ]
        }
      ],
      "source": [
        "img = cv2.imread('./dataset/dotted_resize/dotted6.jpg',cv2.IMREAD_GRAYSCALE)\n",
        "print(model2.predict([img]))"
      ]
    },
    {
      "cell_type": "code",
      "execution_count": 19,
      "metadata": {
        "colab": {
          "base_uri": "https://localhost:8080/",
          "height": 295
        },
        "id": "Y0tS08kC5BrB",
        "outputId": "e901b1b0-9b58-41a5-d6a0-c02d29a5d658"
      },
      "outputs": [
        {
          "data": {
            "image/png": "[encoded data removed]",
            "text/plain": [
              "<Figure size 432x288 with 1 Axes>"
            ]
          },
          "metadata": {
            "needs_background": "light"
          },
          "output_type": "display_data"
        }
      ],
      "source": [
        "import matplotlib.pyplot as plt \n",
        "\n",
        "plt.plot(history.history['loss'])\n",
        "plt.plot(history.history['val_loss'])\n",
        "plt.title('model loss')\n",
        "plt.ylabel('loss')\n",
        "plt.xlabel('epoch')\n",
        "plt.legend(['train', 'val'], loc='upper left')\n",
        "plt.show()"
      ]
    },
    {
      "cell_type": "code",
      "execution_count": null,
      "metadata": {
        "id": "jsa8onkef-Mz"
      },
      "outputs": [],
      "source": [
        "from google.colab.patches import cv2_imshow\n",
        "cv2_imshow(X[4])"
      ]
    },
    {
      "cell_type": "code",
      "execution_count": null,
      "metadata": {
        "id": "Xe-7iPAZyq4z"
      },
      "outputs": [],
      "source": [
        "c='dotted'\n",
        "file=os.listdir(root+c)[0]\n",
        "im= cv2.resize(cv2.imread(root+c+'/'+file,cv2.IMREAD_GRAYSCALE),(150,150))\n",
        "print(im)\n",
        "cv2_imshow(im)"
      ]
    },
    {
      "cell_type": "code",
      "execution_count": null,
      "metadata": {
        "id": "vObsv5gEf-M0"
      },
      "outputs": [],
      "source": [
        "print(Y_train)"
      ]
    },
    {
      "cell_type": "code",
      "execution_count": null,
      "metadata": {
        "id": "ll8xokRwf-M1"
      },
      "outputs": [],
      "source": [
        "im=np.array([cv2.resize(cv2.imread('IMG_20220216_152907.jpg',cv2.IMREAD_GRAYSCALE)/255,(32,32))])\n",
        "print(model2.predict(im))\n"
      ]
    },
    {
      "cell_type": "code",
      "execution_count": null,
      "metadata": {
        "id": "0unut1frf-M1"
      },
      "outputs": [],
      "source": [
        "im=np.array([cv2.resize(cv2.imread('IMG_20220217_162613.jpg',cv2.IMREAD_GRAYSCALE)/255,(32,32))])\n",
        "print(model2.predict(im))"
      ]
    }
  ],
  "metadata": {
    "accelerator": "GPU",
    "colab": {
      "collapsed_sections": [],
      "name": "test_patterns.ipynb",
      "provenance": []
    },
    "interpreter": {
      "hash": "c722a5c4612d8ea306e7964ce7d15152d9ebb0f78ff7d19afab80c6620c555e8"
    },
    "kernelspec": {
      "display_name": "Python 3.8.12 ('test-env')",
      "language": "python",
      "name": "python3"
    },
    "language_info": {
      "codemirror_mode": {
        "name": "ipython",
        "version": 3
      },
      "file_extension": ".py",
      "mimetype": "text/x-python",
      "name": "python",
      "nbconvert_exporter": "python",
      "pygments_lexer": "ipython3",
      "version": "3.8.9"
    }
  },
  "nbformat": 4,
  "nbformat_minor": 0
}
