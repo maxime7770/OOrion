{
  "cells": [
    {
      "cell_type": "code",
      "execution_count": 1,
      "metadata": {
        "id": "6aeU1Nh9f-Mn"
      },
      "outputs": [],
      "source": [
        "import tensorflow as tf\n",
        "import keras\n",
        "from tensorflow.keras.utils import to_categorical\n",
        "from keras.layers import Conv2D,Dense,MaxPooling2D,Input,Flatten,Dropout\n",
        "from keras.models import Sequential\n",
        "from sklearn.model_selection import train_test_split\n",
        "import numpy as np\n",
        "import cv2\n",
        "import os"
      ]
    },
    {
      "cell_type": "code",
      "execution_count": 2,
      "metadata": {
        "id": "hCRzKNz0f-Mo"
      },
      "outputs": [],
      "source": [
        "classes=['striped_resize','dotted_resize','checkered_resize','solid']\n",
        "root='./dataset/'\n",
        "def creation_dataset():\n",
        "    X=[]\n",
        "    Y=[]\n",
        "    dic={'striped_resize':0,'dotted_resize':1,'checkered_resize':2,'solid':3}\n",
        "    for c in classes:\n",
        "        for file in os.listdir(root+c):\n",
        "            #if file.endswith(\".jpg\"):\n",
        "            im= cv2.resize(cv2.imread(root+c+'/'+file,cv2.IMREAD_GRAYSCALE)/255,(150,150))               \n",
        "            im=np.expand_dims(im,-1)\n",
        "            X.append(im)\n",
        "            Y.append(dic[c])\n",
        "    return X,Y\n",
        "    "
      ]
    },
    {
      "cell_type": "code",
      "execution_count": 3,
      "metadata": {
        "colab": {
          "base_uri": "https://localhost:8080/",
          "height": 171
        },
        "id": "jQhWVE_FBn30",
        "outputId": "21aefc93-99b7-4405-e363-605a33ed7e96"
      },
      "outputs": [
        {
          "data": {
            "text/plain": [
              "2858"
            ]
          },
          "execution_count": 3,
          "metadata": {},
          "output_type": "execute_result"
        }
      ],
      "source": [
        "len(os.listdir(root+'checkered_resize'))"
      ]
    },
    {
      "cell_type": "code",
      "execution_count": 4,
      "metadata": {
        "id": "uYXJP-ANf-Mr"
      },
      "outputs": [],
      "source": [
        "X,Y=creation_dataset()"
      ]
    },
    {
      "cell_type": "code",
      "execution_count": null,
      "metadata": {
        "colab": {
          "base_uri": "https://localhost:8080/"
        },
        "id": "bYij4oPV8sSh",
        "outputId": "2ab34c1f-4b8b-4c37-be84-4b489f55dbc5"
      },
      "outputs": [
        {
          "name": "stdout",
          "output_type": "stream",
          "text": [
            "Drive already mounted at /content/drive; to attempt to forcibly remount, call drive.mount(\"/content/drive\", force_remount=True).\n"
          ]
        }
      ],
      "source": [
        "from google.colab import drive\n",
        "drive.mount('/content/drive')"
      ]
    },
    {
      "cell_type": "code",
      "execution_count": 5,
      "metadata": {
        "colab": {
          "base_uri": "https://localhost:8080/"
        },
        "id": "Rdfx2zpuf-Ms",
        "outputId": "3821d448-fe09-43cf-9306-482aeaf8302a"
      },
      "outputs": [
        {
          "name": "stdout",
          "output_type": "stream",
          "text": [
            "9565 9565\n"
          ]
        }
      ],
      "source": [
        "print(len(X),len(Y))"
      ]
    },
    {
      "cell_type": "code",
      "execution_count": 6,
      "metadata": {
        "id": "qERdXMeXf-Mt"
      },
      "outputs": [
        {
          "name": "stdout",
          "output_type": "stream",
          "text": [
            "(150, 150, 1)\n",
            "(150, 150, 1)\n",
            "(150, 150, 1)\n",
            "(150, 150, 1)\n",
            "(150, 150, 1)\n",
            "(150, 150, 1)\n",
            "(150, 150, 1)\n",
            "(150, 150, 1)\n",
            "(150, 150, 1)\n",
            "(150, 150, 1)\n",
            "(150, 150, 1)\n",
            "(150, 150, 1)\n",
            "(150, 150, 1)\n",
            "(150, 150, 1)\n",
            "(150, 150, 1)\n",
            "(150, 150, 1)\n",
            "(150, 150, 1)\n",
            "(150, 150, 1)\n",
            "(150, 150, 1)\n",
            "(150, 150, 1)\n"
          ]
        }
      ],
      "source": [
        "for i in range(20):    \n",
        "    print(X[i].shape)"
      ]
    },
    {
      "cell_type": "code",
      "execution_count": 7,
      "metadata": {
        "id": "UUatYVezf-Mu"
      },
      "outputs": [],
      "source": [
        "X_train,X_test,Y_train,Y_test=train_test_split(X,Y,random_state=42,shuffle=True,train_size=0.8)"
      ]
    },
    {
      "cell_type": "code",
      "execution_count": 8,
      "metadata": {
        "id": "5cAG-IPPf-Mv"
      },
      "outputs": [],
      "source": [
        "Y_train = np.array(to_categorical(Y_train, num_classes=4))\n",
        "Y_test = np.array(to_categorical(Y_test, num_classes=4))"
      ]
    },
    {
      "cell_type": "code",
      "execution_count": 10,
      "metadata": {
        "colab": {
          "background_save": true
        },
        "id": "Na4KkzSTf-Mv",
        "outputId": "0f986200-baa2-47da-87b0-c8c590c5c27d"
      },
      "outputs": [
        {
          "name": "stdout",
          "output_type": "stream",
          "text": [
            "Model: \"sequential_1\"\n",
            "_________________________________________________________________\n",
            " Layer (type)                Output Shape              Param #   \n",
            "=================================================================\n",
            " conv2d_2 (Conv2D)           (None, 146, 146, 16)      416       \n",
            "                                                                 \n",
            " max_pooling2d_2 (MaxPooling  (None, 29, 29, 16)       0         \n",
            " 2D)                                                             \n",
            "                                                                 \n",
            " conv2d_3 (Conv2D)           (None, 25, 25, 8)         3208      \n",
            "                                                                 \n",
            " max_pooling2d_3 (MaxPooling  (None, 5, 5, 8)          0         \n",
            " 2D)                                                             \n",
            "                                                                 \n",
            " flatten_1 (Flatten)         (None, 200)               0         \n",
            "                                                                 \n",
            " dense_2 (Dense)             (None, 10)                2010      \n",
            "                                                                 \n",
            " dense_3 (Dense)             (None, 4)                 44        \n",
            "                                                                 \n",
            "=================================================================\n",
            "Total params: 5,678\n",
            "Trainable params: 5,678\n",
            "Non-trainable params: 0\n",
            "_________________________________________________________________\n"
          ]
        }
      ],
      "source": [
        "shape=X[0].shape\n",
        "\n",
        "model=Sequential()\n",
        "model.add(Input(shape=shape))\n",
        "model.add(Conv2D(16, kernel_size=(5,5), activation=\"relu\"))\n",
        "model.add(MaxPooling2D((5,5)))\n",
        "model.add(Conv2D(8, kernel_size=(5, 5), activation=\"relu\"))\n",
        "model.add(MaxPooling2D((5,5)))\n",
        "model.add(Flatten())\n",
        "model.add(Dense(10,activation='relu'))\n",
        "model.add(Dense(4, activation=\"softmax\"))\n",
        "\n",
        "\n",
        "model.summary()\n",
        " \n",
        "batch_size = 8\n",
        "epochs = 20\n",
        " \n"
      ]
    },
    {
      "cell_type": "code",
      "execution_count": 11,
      "metadata": {
        "colab": {
          "base_uri": "https://localhost:8080/"
        },
        "id": "8AowHi-Yf-Mx",
        "outputId": "7ffee418-7667-4bc1-af3c-973fba9ff901"
      },
      "outputs": [
        {
          "name": "stdout",
          "output_type": "stream",
          "text": [
            "Model: \"sequential_2\"\n",
            "_________________________________________________________________\n",
            " Layer (type)                Output Shape              Param #   \n",
            "=================================================================\n",
            " conv2d_4 (Conv2D)           (None, 146, 146, 8)       208       \n",
            "                                                                 \n",
            " max_pooling2d_4 (MaxPooling  (None, 48, 48, 8)        0         \n",
            " 2D)                                                             \n",
            "                                                                 \n",
            " conv2d_5 (Conv2D)           (None, 44, 44, 16)        3216      \n",
            "                                                                 \n",
            " max_pooling2d_5 (MaxPooling  (None, 14, 14, 16)       0         \n",
            " 2D)                                                             \n",
            "                                                                 \n",
            " conv2d_6 (Conv2D)           (None, 10, 10, 32)        12832     \n",
            "                                                                 \n",
            " max_pooling2d_6 (MaxPooling  (None, 3, 3, 32)         0         \n",
            " 2D)                                                             \n",
            "                                                                 \n",
            " flatten_2 (Flatten)         (None, 288)               0         \n",
            "                                                                 \n",
            " dense_4 (Dense)             (None, 4)                 1156      \n",
            "                                                                 \n",
            "=================================================================\n",
            "Total params: 17,412\n",
            "Trainable params: 17,412\n",
            "Non-trainable params: 0\n",
            "_________________________________________________________________\n"
          ]
        }
      ],
      "source": [
        "model2=Sequential()\n",
        "model2.add(Input(shape=shape))\n",
        "model2.add(Conv2D(8, kernel_size=(5,5), activation=\"relu\"))\n",
        "model2.add(MaxPooling2D((3,3)))\n",
        "model2.add(Conv2D(16, kernel_size=(5,5), activation=\"relu\"))\n",
        "model2.add(MaxPooling2D((3,3)))\n",
        "model2.add(Conv2D(32, kernel_size=(5,5), activation=\"relu\"))\n",
        "model2.add(MaxPooling2D((3,3)))\n",
        "model2.add(Flatten())\n",
        "#model2.add(Dense(10,activation='relu'))\n",
        "model2.add(Dense(4, activation=\"softmax\"))\n",
        "\n",
        "\n",
        "model2.summary()\n",
        " \n",
        "batch_size = 5"
      ]
    },
    {
      "cell_type": "code",
      "execution_count": 12,
      "metadata": {
        "colab": {
          "base_uri": "https://localhost:8080/"
        },
        "id": "RDlOZ5wZ2aJM",
        "outputId": "d4faf4d5-890b-41b9-d58e-26eeca32b68d"
      },
      "outputs": [
        {
          "name": "stdout",
          "output_type": "stream",
          "text": [
            "Model: \"sequential_3\"\n",
            "_________________________________________________________________\n",
            " Layer (type)                Output Shape              Param #   \n",
            "=================================================================\n",
            " conv2d_7 (Conv2D)           (None, 146, 146, 8)       208       \n",
            "                                                                 \n",
            " max_pooling2d_7 (MaxPooling  (None, 48, 48, 8)        0         \n",
            " 2D)                                                             \n",
            "                                                                 \n",
            " flatten_3 (Flatten)         (None, 18432)             0         \n",
            "                                                                 \n",
            " dense_5 (Dense)             (None, 4)                 73732     \n",
            "                                                                 \n",
            "=================================================================\n",
            "Total params: 73,940\n",
            "Trainable params: 73,940\n",
            "Non-trainable params: 0\n",
            "_________________________________________________________________\n"
          ]
        }
      ],
      "source": [
        "shape=X[0].shape\n",
        "\n",
        "\n",
        "model3=Sequential()\n",
        "model3.add(Input(shape=shape))\n",
        "model3.add(Conv2D(8, kernel_size=(5,5), activation=\"relu\"))\n",
        "model3.add(MaxPooling2D((3,3)))\n",
        "model3.add(Flatten())\n",
        "model3.add(Dense(4,activation=\"softmax\"))\n",
        "\n",
        "model3.summary()\n"
      ]
    },
    {
      "cell_type": "code",
      "execution_count": 14,
      "metadata": {
        "colab": {
          "background_save": true,
          "base_uri": "https://localhost:8080/"
        },
        "id": "NmRHtFhlf-My",
        "outputId": "f469f29f-c90d-4de8-8b26-154c460535ed"
      },
      "outputs": [
        {
          "name": "stdout",
          "output_type": "stream",
          "text": [
            "Epoch 1/5\n",
            "1913/1913 [==============================] - 182s 94ms/step - loss: 1.0212 - accuracy: 0.5555 - val_loss: 0.8694 - val_accuracy: 0.6550\n",
            "Epoch 2/5\n",
            "1913/1913 [==============================] - 152s 80ms/step - loss: 0.7618 - accuracy: 0.7052 - val_loss: 0.7635 - val_accuracy: 0.7026\n",
            "Epoch 3/5\n",
            "1913/1913 [==============================] - 172s 90ms/step - loss: 0.6747 - accuracy: 0.7412 - val_loss: 0.7758 - val_accuracy: 0.6858\n",
            "Epoch 4/5\n",
            "1913/1913 [==============================] - 178s 93ms/step - loss: 0.6187 - accuracy: 0.7678 - val_loss: 0.6457 - val_accuracy: 0.7616\n",
            "Epoch 5/5\n",
            "1913/1913 [==============================] - 196s 103ms/step - loss: 0.5664 - accuracy: 0.7831 - val_loss: 0.6013 - val_accuracy: 0.7841\n"
          ]
        }
      ],
      "source": [
        "epochs=5\n",
        "batch_size=4\n",
        "model2.compile(loss=\"categorical_crossentropy\",\n",
        "              optimizer=\"adam\", metrics=[\"accuracy\"])\n",
        "  \n",
        "history = model2.fit(\n",
        "    np.array(X_train),\n",
        "    Y_train,\n",
        "    batch_size=batch_size,\n",
        "    epochs=epochs,\n",
        "    validation_data=(np.array(X_test), Y_test),\n",
        "    verbose=True\n",
        ")"
      ]
    },
    {
      "cell_type": "code",
      "execution_count": 3,
      "metadata": {
        "id": "zoA_K8PnLOyh"
      },
      "outputs": [
        {
          "name": "stderr",
          "output_type": "stream",
          "text": [
            "Running TensorFlow Graph Passes: 100%|██████████| 6/6 [00:00<00:00, 22.75 passes/s]\n",
            "Converting Frontend ==> MIL Ops: 100%|██████████| 36/36 [00:00<00:00, 631.52 ops/s]\n",
            "Running MIL Common passes: 100%|██████████| 34/34 [00:00<00:00, 432.27 passes/s]\n",
            "Running MIL Clean up passes: 100%|██████████| 9/9 [00:00<00:00, 167.16 passes/s]\n",
            "Translating MIL ==> NeuralNetwork Ops: 100%|██████████| 61/61 [00:00<00:00, 608.93 ops/s]\n"
          ]
        }
      ],
      "source": [
        "import coremltools as ct\n",
        "new_model = tf.keras.models.load_model('model3.h5')\n",
        "\n",
        "class_labels = [0,1,2]\n",
        "classifier_config = ct.ClassifierConfig(class_labels)\n",
        "_input =ct.ImageType(scale = 1./255)\n",
        "\n",
        "mlmodel = ct.convert(new_model, inputs=[_input], classifier_config=classifier_config)\n",
        "mlmodel.save(\"PatternModel.mlmodel\")"
      ]
    },
    {
      "cell_type": "code",
      "execution_count": 19,
      "metadata": {},
      "outputs": [
        {
          "name": "stdout",
          "output_type": "stream",
          "text": [
            "[[1.1538418e-04 9.8473144e-01 1.4535174e-02 6.1802624e-04]]\n"
          ]
        }
      ],
      "source": [
        "img = cv2.imread('./dataset/dotted_resize/dotted6.jpg',cv2.IMREAD_GRAYSCALE)\n",
        "img = img/255\n",
        "img=np.expand_dims(img,-1)\n",
        "img=np.expand_dims(img,0)\n",
        "print(model2.predict([img]))"
      ]
    },
    {
      "cell_type": "code",
      "execution_count": 20,
      "metadata": {
        "colab": {
          "base_uri": "https://localhost:8080/",
          "height": 295
        },
        "id": "Y0tS08kC5BrB",
        "outputId": "e901b1b0-9b58-41a5-d6a0-c02d29a5d658"
      },
      "outputs": [
        {
          "data": {
            "image/png": "[encoded data removed]",
            "text/plain": [
              "<Figure size 432x288 with 1 Axes>"
            ]
          },
          "metadata": {
            "needs_background": "light"
          },
          "output_type": "display_data"
        }
      ],
      "source": [
        "import matplotlib.pyplot as plt \n",
        "\n",
        "plt.plot(history.history['loss'])\n",
        "plt.plot(history.history['val_loss'])\n",
        "plt.title('model loss')\n",
        "plt.ylabel('loss')\n",
        "plt.xlabel('epoch')\n",
        "plt.legend(['train', 'val'], loc='upper left')\n",
        "plt.show()"
      ]
    },
    {
      "cell_type": "code",
      "execution_count": null,
      "metadata": {
        "id": "jsa8onkef-Mz"
      },
      "outputs": [],
      "source": [
        "from google.colab.patches import cv2_imshow\n",
        "cv2_imshow(X[4])"
      ]
    },
    {
      "cell_type": "code",
      "execution_count": null,
      "metadata": {
        "id": "Xe-7iPAZyq4z"
      },
      "outputs": [],
      "source": [
        "c='dotted'\n",
        "file=os.listdir(root+c)[0]\n",
        "im= cv2.resize(cv2.imread(root+c+'/'+file,cv2.IMREAD_GRAYSCALE),(150,150))\n",
        "print(im)\n",
        "cv2_imshow(im)"
      ]
    },
    {
      "cell_type": "code",
      "execution_count": null,
      "metadata": {
        "id": "vObsv5gEf-M0"
      },
      "outputs": [],
      "source": [
        "print(Y_train)"
      ]
    },
    {
      "cell_type": "code",
      "execution_count": null,
      "metadata": {
        "id": "ll8xokRwf-M1"
      },
      "outputs": [],
      "source": [
        "im=np.array([cv2.resize(cv2.imread('IMG_20220216_152907.jpg',cv2.IMREAD_GRAYSCALE)/255,(32,32))])\n",
        "print(model2.predict(im))\n"
      ]
    },
    {
      "cell_type": "code",
      "execution_count": null,
      "metadata": {
        "id": "0unut1frf-M1"
      },
      "outputs": [],
      "source": [
        "im=np.array([cv2.resize(cv2.imread('IMG_20220217_162613.jpg',cv2.IMREAD_GRAYSCALE)/255,(32,32))])\n",
        "print(model2.predict(im))"
      ]
    }
  ],
  "metadata": {
    "accelerator": "GPU",
    "colab": {
      "collapsed_sections": [],
      "name": "test_patterns.ipynb",
      "provenance": []
    },
    "interpreter": {
      "hash": "c722a5c4612d8ea306e7964ce7d15152d9ebb0f78ff7d19afab80c6620c555e8"
    },
    "kernelspec": {
      "display_name": "Python 3.8.12 ('test-env')",
      "language": "python",
      "name": "python3"
    },
    "language_info": {
      "codemirror_mode": {
        "name": "ipython",
        "version": 3
      },
      "file_extension": ".py",
      "mimetype": "text/x-python",
      "name": "python",
      "nbconvert_exporter": "python",
      "pygments_lexer": "ipython3",
      "version": "3.8.9"
    }
  },
  "nbformat": 4,
  "nbformat_minor": 0
}
