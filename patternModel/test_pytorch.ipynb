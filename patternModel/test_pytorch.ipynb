{
  "cells": [
    {
      "cell_type": "code",
      "execution_count": 1,
      "metadata": {
        "id": "_yYfbCEsHLzQ"
      },
      "outputs": [],
      "source": [
        "import torch\n",
        "import os\n",
        "import torch.nn as nn\n",
        "import torch.nn.functional as F\n",
        "import torchvision\n",
        "import torchvision.transforms as transforms\n",
        "import matplotlib.pyplot as plt\n",
        "import numpy as np\n",
        "from torch.utils.data import DataLoader\n",
        "from torch.utils.data import Dataset\n",
        "import cv2 as cv\n"
      ]
    },
    {
      "cell_type": "code",
      "execution_count": 4,
      "metadata": {
        "id": "iZiLp1RFIzp7"
      },
      "outputs": [],
      "source": [
        "\n",
        "class CustomDataset(Dataset):\n",
        "    def __init__(self, root_dir, classes, class_dic, transform = None):\n",
        "        self.annotations = []\n",
        "        self.classes = []\n",
        "        for c in classes:\n",
        "          for file in os.listdir(root+c):\n",
        "            #if file.endswith(\".jpg\"):\n",
        "            self.annotations.append(root+c+'/'+file)\n",
        "            self.classes.append(class_dic[c])\n",
        "        self.root_dir = root_dir\n",
        "        self.transform = transform\n",
        "        \n",
        "\n",
        "    def __len__(self):\n",
        "        return len(self.annotations)\n",
        "\n",
        "    def __getitem__(self,index):\n",
        "        image = cv.imread(self.annotations[index],cv.IMREAD_GRAYSCALE)\n",
        "        norm_image = image/255\n",
        "        y = self.classes[index]\n",
        "        y_label = torch.tensor(int(y))\n",
        "\n",
        "        if self.transform:\n",
        "            norm_image = self.transform(image)\n",
        "        return (norm_image, y_label)\n",
        "        "
      ]
    },
    {
      "cell_type": "code",
      "execution_count": null,
      "metadata": {},
      "outputs": [],
      "source": []
    },
    {
      "cell_type": "code",
      "execution_count": 10,
      "metadata": {
        "colab": {
          "base_uri": "https://localhost:8080/"
        },
        "id": "Xzx0B7tcJDI1",
        "outputId": "82d8a345-6899-4018-eb4f-4b24e8a418a1"
      },
      "outputs": [
        {
          "name": "stdout",
          "output_type": "stream",
          "text": [
            "cpu\n",
            "['checkered_resize', 'dotted_resize', 'solid', 'striped_resize']\n",
            "{'checkered_resize': 0, 'dotted_resize': 1, 'solid': 2, 'striped_resize': 3}\n"
          ]
        }
      ],
      "source": [
        "device = torch.device('cuda' if torch.cuda.is_available() else 'cpu')\n",
        "root='./dataset/'\n",
        "\n",
        "print(device)\n",
        "classes = []\n",
        "class_dic = {}\n",
        "\n",
        "j = 0\n",
        "for file in sorted(os.listdir(root)):\n",
        "    d = os.path.join(root, file)\n",
        "    if os.path.isdir(d):\n",
        "        classes.append(file)\n",
        "        class_dic[file] = j\n",
        "        j=j+1\n",
        "print(classes)\n",
        "print(class_dic)\n",
        "#classes = ['solid','checkered_resize', 'striped_resize', \"dotted_resize\"]\n",
        "#class_dic ={'striped_resize':0,'dotted_resize':1,'checkered_resize':2,'solid':3}\n",
        "\n",
        "\n",
        "num_epochs = 5\n",
        "batch_size = 4\n",
        "learning_rate = 0.001"
      ]
    },
    {
      "cell_type": "code",
      "execution_count": 11,
      "metadata": {
        "id": "7uhc97pZJaRx"
      },
      "outputs": [],
      "source": [
        "from math import *\n",
        "\n",
        "dataset = CustomDataset(root_dir=root, classes=classes, class_dic=class_dic, transform=transforms.ToTensor())\n",
        "length = dataset.__len__()\n",
        "\n",
        "train_set, test_set = torch.utils.data.random_split(dataset, [length-floor(length/5), floor(length/5)])\n",
        "train_loader = DataLoader(dataset=train_set, batch_size=batch_size, shuffle=True,)\n",
        "test_loader = DataLoader(dataset=test_set, batch_size=batch_size, shuffle=True,)\n"
      ]
    },
    {
      "cell_type": "code",
      "execution_count": 13,
      "metadata": {
        "id": "gUf47mXVKGZD"
      },
      "outputs": [],
      "source": [
        "class ConvNet(nn.Module):\n",
        "    def __init__(self):\n",
        "        super(ConvNet, self).__init__()\n",
        "        self.conv1 = nn.Conv2d(1, 8, 5)\n",
        "        self.pool = nn.MaxPool2d(3, 3)\n",
        "        self.conv2 = nn.Conv2d(8, 16, 5)\n",
        "        self.conv3 = nn.Conv2d(16, 32, 5)\n",
        "        self.fc1 = nn.Linear(288, 4)\n",
        "\n",
        "    def forward(self, x):\n",
        "        x = self.pool(F.relu(self.conv1(x)))\n",
        "        x = self.pool(F.relu(self.conv2(x)))\n",
        "        x = self.pool(F.relu(self.conv3(x)))\n",
        "        x = x.view(-1, 288)\n",
        "        x = F.softmax(self.fc1(x),dim=1)\n",
        "        return x"
      ]
    },
    {
      "cell_type": "code",
      "execution_count": 14,
      "metadata": {
        "colab": {
          "base_uri": "https://localhost:8080/"
        },
        "id": "KvH4fk1IK_Bg",
        "outputId": "f7fe998b-bbe3-46d2-b84b-da397e585ab8"
      },
      "outputs": [
        {
          "name": "stdout",
          "output_type": "stream",
          "text": [
            "9565\n"
          ]
        }
      ],
      "source": [
        "model = ConvNet().to(device)\n",
        "print(length)\n",
        "criterion = nn.CrossEntropyLoss()\n",
        "optimizer = torch.optim.Adam(model.parameters(), lr=learning_rate)\n"
      ]
    },
    {
      "cell_type": "code",
      "execution_count": 15,
      "metadata": {
        "colab": {
          "base_uri": "https://localhost:8080/",
          "height": 1000
        },
        "id": "D7hVyokELCjQ",
        "outputId": "97790218-07e0-4b2a-d9e1-ec7c7f535ddc"
      },
      "outputs": [
        {
          "name": "stdout",
          "output_type": "stream",
          "text": [
            "1\n",
            "Epoch [1/5], Step [200/1913], Loss: 1.3640\n",
            "Epoch [1/5], Step [400/1913], Loss: 1.4356\n",
            "Epoch [1/5], Step [600/1913], Loss: 1.3213\n",
            "Epoch [1/5], Step [800/1913], Loss: 1.2340\n",
            "Epoch [1/5], Step [1000/1913], Loss: 1.3694\n",
            "Epoch [1/5], Step [1200/1913], Loss: 1.5276\n",
            "Epoch [1/5], Step [1400/1913], Loss: 1.3263\n",
            "Epoch [1/5], Step [1600/1913], Loss: 1.4492\n",
            "Epoch [1/5], Step [1800/1913], Loss: 1.2126\n",
            "2\n",
            "Epoch [2/5], Step [200/1913], Loss: 1.3082\n",
            "Epoch [2/5], Step [400/1913], Loss: 1.3892\n",
            "Epoch [2/5], Step [600/1913], Loss: 1.0785\n",
            "Epoch [2/5], Step [800/1913], Loss: 0.9921\n",
            "Epoch [2/5], Step [1000/1913], Loss: 1.1530\n",
            "Epoch [2/5], Step [1200/1913], Loss: 1.4621\n",
            "Epoch [2/5], Step [1400/1913], Loss: 1.3256\n",
            "Epoch [2/5], Step [1600/1913], Loss: 1.3945\n",
            "Epoch [2/5], Step [1800/1913], Loss: 1.0284\n",
            "3\n",
            "Epoch [3/5], Step [200/1913], Loss: 1.1017\n",
            "Epoch [3/5], Step [400/1913], Loss: 1.2360\n",
            "Epoch [3/5], Step [600/1913], Loss: 1.0717\n",
            "Epoch [3/5], Step [800/1913], Loss: 1.2153\n",
            "Epoch [3/5], Step [1000/1913], Loss: 1.1576\n",
            "Epoch [3/5], Step [1200/1913], Loss: 1.2559\n",
            "Epoch [3/5], Step [1400/1913], Loss: 0.8136\n",
            "Epoch [3/5], Step [1600/1913], Loss: 1.0133\n",
            "Epoch [3/5], Step [1800/1913], Loss: 0.7836\n",
            "4\n",
            "Epoch [4/5], Step [200/1913], Loss: 1.2092\n",
            "Epoch [4/5], Step [400/1913], Loss: 1.0798\n",
            "Epoch [4/5], Step [600/1913], Loss: 1.4700\n",
            "Epoch [4/5], Step [800/1913], Loss: 1.1875\n",
            "Epoch [4/5], Step [1000/1913], Loss: 0.8399\n",
            "Epoch [4/5], Step [1200/1913], Loss: 0.8114\n",
            "Epoch [4/5], Step [1400/1913], Loss: 1.2409\n",
            "Epoch [4/5], Step [1600/1913], Loss: 1.2358\n",
            "Epoch [4/5], Step [1800/1913], Loss: 1.2435\n",
            "5\n",
            "Epoch [5/5], Step [200/1913], Loss: 1.1788\n",
            "Epoch [5/5], Step [400/1913], Loss: 1.0122\n",
            "Epoch [5/5], Step [600/1913], Loss: 1.6458\n",
            "Epoch [5/5], Step [800/1913], Loss: 1.2436\n",
            "Epoch [5/5], Step [1000/1913], Loss: 0.9706\n",
            "Epoch [5/5], Step [1200/1913], Loss: 1.0178\n",
            "Epoch [5/5], Step [1400/1913], Loss: 0.8770\n",
            "Epoch [5/5], Step [1600/1913], Loss: 0.9687\n",
            "Epoch [5/5], Step [1800/1913], Loss: 1.2423\n",
            "Finished Training\n"
          ]
        }
      ],
      "source": [
        "n_total_steps = len(train_loader)\n",
        "loss_value = []\n",
        "for epoch in range(num_epochs):\n",
        "    print(epoch+1)\n",
        "    running_loss=0.0\n",
        "    for i, (images, labels) in enumerate(train_loader):\n",
        "        # origin shape: [4, 3, 32, 32] = 4, 3, 1024\n",
        "        # input_layer: 3 input channels, 6 output channels, 5 kernel size\n",
        "        images = images.to(device)\n",
        "        labels = labels.to(device)\n",
        "\n",
        "        # Forward pass\n",
        "        outputs = model(images)\n",
        "        loss = criterion(outputs, labels)\n",
        "\n",
        "        # Backward and optimize\n",
        "        optimizer.zero_grad()\n",
        "        loss.backward()\n",
        "        optimizer.step()\n",
        "\n",
        "        running_loss += loss.item()\n",
        "\n",
        "        if (i+1) % 200 == 0:\n",
        "            print (f'Epoch [{epoch+1}/{num_epochs}], Step [{i+1}/{n_total_steps}], Loss: {loss.item():.4f}')\n",
        "    \n",
        "    epoch_loss = running_loss / (length-floor(length/5))\n",
        "    loss_value.append(epoch_loss)\n",
        "print('Finished Training')\n"
      ]
    },
    {
      "cell_type": "code",
      "execution_count": 16,
      "metadata": {
        "colab": {
          "base_uri": "https://localhost:8080/",
          "height": 265
        },
        "id": "P_XvUEWfLg2t",
        "outputId": "b6cf198b-3e78-440b-8917-f4775ccd61f7"
      },
      "outputs": [
        {
          "data": {
            "image/png": "[encoded data removed]",
            "text/plain": [
              "<Figure size 432x288 with 1 Axes>"
            ]
          },
          "metadata": {
            "needs_background": "light"
          },
          "output_type": "display_data"
        }
      ],
      "source": [
        "plt.plot(loss_value)\n",
        "PATH = root + '/cnn.pth'\n",
        "torch.save(model.state_dict(), PATH)"
      ]
    },
    {
      "cell_type": "code",
      "execution_count": 17,
      "metadata": {
        "colab": {
          "base_uri": "https://localhost:8080/"
        },
        "id": "MQ4I1BBqLq06",
        "outputId": "2f8a5f30-863e-4070-c73d-106075aa4433"
      },
      "outputs": [
        {
          "name": "stdout",
          "output_type": "stream",
          "text": [
            "1912\n",
            "tensor([0, 3, 3, 2])\n",
            "torch.Size([4, 1, 150, 150])\n",
            "3\n",
            "tensor([1, 3, 3, 3])\n",
            "torch.Size([4, 1, 150, 150])\n",
            "3\n",
            "tensor([0, 2, 2, 0])\n",
            "torch.Size([4, 1, 150, 150])\n",
            "3\n",
            "tensor([1, 0, 3, 0])\n",
            "torch.Size([4, 1, 150, 150])\n",
            "3\n",
            "tensor([3, 1, 0, 1])\n",
            "tensor([1])\n",
            "Accuracy of the network: 71.77208572922112 %\n",
            "Accuracy of the network 66.32996632996633\n",
            "checkered_resize\n",
            "Accuracy of the network 82.97029702970298\n",
            "dotted_resize\n",
            "Accuracy of the network 54.03508771929825\n",
            "solid\n",
            "Accuracy of the network 76.74858223062382\n",
            "striped_resize\n",
            "torch.Size([1, 1, 150, 150])\n",
            "tensor([[1.0039e-01, 8.9961e-01, 5.2679e-38, 7.2137e-10]])\n"
          ]
        }
      ],
      "source": [
        "with torch.no_grad():\n",
        "    n_correct = 0\n",
        "    n_samples = 0\n",
        "    n_class_correct = [0 for i in range(len(classes))]\n",
        "    n_class_samples = [0 for i in range(len(classes))]\n",
        "    j=0\n",
        "    length2 = len(test_loader)\n",
        "    for images, labels in test_loader:\n",
        "        if j % 100 == 0:\n",
        "          print(i)\n",
        "          print(labels)\n",
        "        j=j+1\n",
        "        images = images.to(device)\n",
        "        labels = labels.to(device)\n",
        "        if j % 100 == 0:\n",
        "          print(images.size())\n",
        "        outputs = model(images)\n",
        "        # max returns (value ,index)\n",
        "        _, predicted = torch.max(outputs, 1)\n",
        "        n_samples += labels.size(0)\n",
        "        n_correct += (predicted == labels).sum().item()\n",
        "        \n",
        "        for i in range(batch_size):\n",
        "            try:\n",
        "              label = labels[i]\n",
        "            except:\n",
        "              print(labels)\n",
        "              break\n",
        "            pred = predicted[i]\n",
        "            if (label == pred):\n",
        "                n_class_correct[label] += 1\n",
        "            n_class_samples[label] += 1\n",
        "\n",
        "    acc = 100.0 * n_correct / n_samples\n",
        "    print(f'Accuracy of the network: {acc} %')\n",
        "\n",
        "    for i in range(len(classes)):\n",
        "        acc = 100.0 * n_class_correct[i] / n_class_samples[i]\n",
        "        print(f'Accuracy of the network {acc}')\n",
        "        print(classes[i])\n",
        "    image = cv.imread('./dataset/dotted_resize/dotted6.jpg',cv.IMREAD_GRAYSCALE)\n",
        "    image = image\n",
        "    transform = transforms.ToTensor()\n",
        "    image = transform(image)\n",
        "    image = image[None, :]\n",
        "    print(image.size())\n",
        "    output = model(image)\n",
        "    print(output)"
      ]
    },
    {
      "cell_type": "code",
      "execution_count": 19,
      "metadata": {},
      "outputs": [
        {
          "name": "stderr",
          "output_type": "stream",
          "text": [
            "Converting Frontend ==> MIL Ops:  98%|█████████▊| 64/65 [00:00<00:00, 717.54 ops/s]\n",
            "Running MIL Common passes:   0%|          | 0/34 [00:00<?, ? passes/s]/Users/alexandrebarbier/Library/Python/3.8/lib/python/site-packages/coremltools/converters/mil/mil/passes/name_sanitization_utils.py:129: UserWarning: Output, '78', of the source model, has been renamed to 'var_78' in the Core ML model.\n",
            "  warnings.warn(msg.format(var.name, new_name))\n",
            "Running MIL Common passes: 100%|██████████| 34/34 [00:00<00:00, 469.56 passes/s]\n",
            "Running MIL Clean up passes: 100%|██████████| 9/9 [00:00<00:00, 511.24 passes/s]\n",
            "Translating MIL ==> NeuralNetwork Ops: 100%|██████████| 52/52 [00:00<00:00, 13214.41 ops/s]\n"
          ]
        }
      ],
      "source": [
        "import coremltools as ct\n",
        "\n",
        "model = ConvNet()\n",
        "model.load_state_dict(torch.load(root + 'cnn.pth'))\n",
        "\n",
        "# Create dummy input\n",
        "dummy_input = torch.rand(1, 1, 150, 150)\n",
        "traced_model = torch.jit.trace(model, dummy_input)\n",
        "\n",
        "class_labels = [0,1,2,3]\n",
        "classifier_config = ct.ClassifierConfig(class_labels)\n",
        "\n",
        "_input =ct.ImageType(name=\"input_1\",shape=(1,1,150,150),scale = 1./255)\n",
        "\n",
        "mlmodel = ct.convert(traced_model, inputs=[_input], classifier_config=classifier_config)\n",
        "\n",
        "mlmodel.save(\"tesstmodel.mlmodel\")"
      ]
    }
  ],
  "metadata": {
    "accelerator": "GPU",
    "colab": {
      "collapsed_sections": [],
      "name": "test-pytorch.ipynb",
      "provenance": []
    },
    "kernelspec": {
      "display_name": "Python 3",
      "name": "python3"
    },
    "language_info": {
      "codemirror_mode": {
        "name": "ipython",
        "version": 3
      },
      "file_extension": ".py",
      "mimetype": "text/x-python",
      "name": "python",
      "nbconvert_exporter": "python",
      "pygments_lexer": "ipython3",
      "version": "3.8.9"
    }
  },
  "nbformat": 4,
  "nbformat_minor": 0
}
