{
 "cells": [
  {
   "cell_type": "code",
   "execution_count": 1,
   "metadata": {},
   "outputs": [],
   "source": [
    "import tensorflow as tf\n",
    "import keras\n",
    "from tensorflow.keras.utils import to_categorical\n",
    "from keras.preprocessing.image import ImageDataGenerator\n",
    "from keras.layers import Conv2D,Dense,MaxPooling2D,Input,Flatten,Dropout\n",
    "from keras.models import Sequential\n",
    "from sklearn.model_selection import train_test_split\n",
    "import numpy as np\n",
    "import cv2\n",
    "import os"
   ]
  },
  {
   "cell_type": "code",
   "execution_count": 6,
   "metadata": {},
   "outputs": [
    {
     "name": "stdout",
     "output_type": "stream",
     "text": [
      "Found 1956 images belonging to 4 classes.\n",
      "Found 491 images belonging to 4 classes.\n"
     ]
    }
   ],
   "source": [
    "train_datagen=ImageDataGenerator(rescale=1./255,rotation_range=350,shear_range=30,horizontal_flip=True,vertical_flip=True,brightness_range=(0.75,1.25),zoom_range=(0.8,1),channel_shift_range=50)\n",
    "test_datagen = ImageDataGenerator(rescale=1./255)\n",
    "\n",
    "train_size=1956\n",
    "val_size=491\n",
    "\n",
    "batch_size_train=8\n",
    "batch_size_val=val_size\n",
    "\n",
    "train_generator = train_datagen.flow_from_directory(\n",
    "        'dataset_train_val/train',\n",
    "        target_size=(128,128),\n",
    "        batch_size=batch_size_train,\n",
    "        class_mode='categorical',shuffle=True)\n",
    "validation_generator = test_datagen.flow_from_directory(\n",
    "        'dataset_train_val/val',\n",
    "        target_size=(128,128),\n",
    "        batch_size=batch_size_val,\n",
    "        class_mode='categorical',shuffle=True)\n"
   ]
  },
  {
   "cell_type": "code",
   "execution_count": null,
   "metadata": {},
   "outputs": [],
   "source": [
    "hape=(128, 128, 3)\n",
    "\n",
    "\n",
    "model=Sequential()\n",
    "model.add(Input(shape=shape))\n",
    "#model2.add(Lambda(lambda x: keras.backend.mean(x, axis=3)[:, :, :, None]))\n",
    "\n",
    "model.add(Conv2D(16, kernel_size=(3,3), activation=\"relu\"))\n",
    "model.add(Conv2D(16, kernel_size=(3,3), activation=\"relu\"))\n",
    "model.add(MaxPooling2D((2,2)))\n",
    "\n",
    "model.add(Conv2D(32, kernel_size=(3,3), activation=\"relu\"))\n",
    "model.add(Conv2D(32, kernel_size=(3,3), activation=\"relu\"))\n",
    "model.add(MaxPooling2D((2,2)))\n",
    "\n",
    "model.add(Conv2D(32, kernel_size=(3,3), activation=\"relu\"))\n",
    "model.add(Conv2D(32, kernel_size=(3,3), activation=\"relu\"))\n",
    "model.add(MaxPooling2D((2,2)))\n",
    "\n",
    "model.add(Flatten())\n",
    "\n",
    "model.add(Dense(64, activation='relu'))\n",
    "model.add(Dense(3, activation='sigmoid'))\n",
    "\n",
    "model.compile(optimizer = 'adam', loss = 'binary_crossentropy', metrics = ['accuracy'])\n",
    "\n",
    "model.summary()\n"
   ]
  },
  {
   "cell_type": "code",
   "execution_count": null,
   "metadata": {},
   "outputs": [],
   "source": [
    "history=model.fit(\n",
    "        train_generator,\n",
    "        epochs=50,\n",
    "        steps_per_epoch=200,  # here chose number_of_samples/batch_size\n",
    "        validation_data=validation_generator,\n",
    "        verbose=True,\n",
    "        validation_steps=1 # look at all the validation data at each epoch\n",
    ")"
   ]
  },
  {
   "cell_type": "code",
   "execution_count": null,
   "metadata": {},
   "outputs": [],
   "source": [
    "import matplotlib.pyplot as plt \n",
    "\n",
    "plt.plot(history.history['loss'])\n",
    "plt.plot(history.history['val_loss'])\n",
    "plt.title('model loss')\n",
    "plt.ylabel('loss')\n",
    "plt.xlabel('epoch')\n",
    "plt.legend(['train', 'val'], loc='upper left')\n",
    "plt.show()"
   ]
  }
 ],
 "metadata": {
  "interpreter": {
   "hash": "c722a5c4612d8ea306e7964ce7d15152d9ebb0f78ff7d19afab80c6620c555e8"
  },
  "kernelspec": {
   "display_name": "Python 3.8.12 ('test-env')",
   "language": "python",
   "name": "python3"
  },
  "language_info": {
   "codemirror_mode": {
    "name": "ipython",
    "version": 3
   },
   "file_extension": ".py",
   "mimetype": "text/x-python",
   "name": "python",
   "nbconvert_exporter": "python",
   "pygments_lexer": "ipython3",
   "version": "3.8.12"
  },
  "orig_nbformat": 4
 },
 "nbformat": 4,
 "nbformat_minor": 2
}
